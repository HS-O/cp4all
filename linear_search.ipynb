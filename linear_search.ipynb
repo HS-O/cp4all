{
  "nbformat": 4,
  "nbformat_minor": 0,
  "metadata": {
    "colab": {
      "name": "linear_search.ipynb",
      "provenance": []
    },
    "kernelspec": {
      "name": "python3",
      "display_name": "Python 3"
    }
  },
  "cells": [
    {
      "cell_type": "code",
      "metadata": {
        "id": "UvWPRaJ5Hp44",
        "outputId": "483948b2-d601-494d-e36a-700f87694a2f",
        "colab": {
          "base_uri": "https://localhost:8080/",
          "height": 51
        }
      },
      "source": [
        "#linear search \n",
        "a = [12,56,93,78,62]\n",
        "\n",
        "def linear_search(target):\n",
        "  for i in range(0, len(a)):\n",
        "    if a[i] == target:\n",
        "      return i\n",
        "  return -1 \n",
        "\n",
        "\n",
        "print(linear_search(56))\n",
        "print(linear_search(34))\n"
      ],
      "execution_count": null,
      "outputs": [
        {
          "output_type": "stream",
          "text": [
            "1\n",
            "-1\n"
          ],
          "name": "stdout"
        }
      ]
    },
    {
      "cell_type": "code",
      "metadata": {
        "id": "2gp-Yk_QIryW",
        "outputId": "c1c233df-641a-4fac-e16b-40ccc323f6e2",
        "colab": {
          "base_uri": "https://localhost:8080/",
          "height": 68
        }
      },
      "source": [
        "#linear search \n",
        "a = [12,56,62,78,93]\n",
        "\n",
        "#can terminate early \n",
        "def linear_search(target):\n",
        "  if a[len(a)-1] < target: \n",
        "    return -1 \n",
        "    \n",
        "  for i in range(0, len(a)):\n",
        "    if a[i] > target:\n",
        "      return -1\n",
        "    elif a[i] == target:\n",
        "      return i \n",
        "\n",
        "\n",
        "\n",
        "print(linear_search(56))\n",
        "print(linear_search(34))\n",
        "print(linear_search(99))"
      ],
      "execution_count": null,
      "outputs": [
        {
          "output_type": "stream",
          "text": [
            "1\n",
            "-1\n",
            "-1\n"
          ],
          "name": "stdout"
        }
      ]
    },
    {
      "cell_type": "code",
      "metadata": {
        "id": "bC1letEfKnOv",
        "outputId": "44031658-ea27-41a9-d0e7-b92c62b67712",
        "colab": {
          "base_uri": "https://localhost:8080/",
          "height": 68
        }
      },
      "source": [
        "#linear search \n",
        "a = [12,56,62,78,93]\n",
        "\n",
        "#can terminate early \n",
        "def linear_search(target):\n",
        "  for i in range(0, len(a)):\n",
        "    if a[i] > target:\n",
        "      return -1\n",
        "    elif a[i] == target:\n",
        "      return i \n",
        "  return -1 \n",
        "\n",
        "print(linear_search(56))\n",
        "print(linear_search(34))\n",
        "print(linear_search(99))"
      ],
      "execution_count": null,
      "outputs": [
        {
          "output_type": "stream",
          "text": [
            "1\n",
            "-1\n",
            "-1\n"
          ],
          "name": "stdout"
        }
      ]
    },
    {
      "cell_type": "code",
      "metadata": {
        "id": "JbiRcus5MIeA",
        "outputId": "cd9dc03e-257e-433b-f953-75de17e069f8",
        "colab": {
          "base_uri": "https://localhost:8080/",
          "height": 68
        }
      },
      "source": [
        "#linear search \n",
        "a = [99,12,56,62,78,56,93,12]\n",
        "\n",
        "#if target is dublicated, return all the index \n",
        "def linear_search(target):\n",
        "  location = []\n",
        "  for i in range(0, len(a)):\n",
        "    if a[i] == target:\n",
        "      location.append(i)\n",
        "  if location == []:\n",
        "    return -1\n",
        "  else:\n",
        "    return location \n",
        "\n",
        "print(linear_search(56))\n",
        "print(linear_search(34))\n",
        "print(linear_search(99))"
      ],
      "execution_count": null,
      "outputs": [
        {
          "output_type": "stream",
          "text": [
            "[2, 5]\n",
            "-1\n",
            "[0]\n"
          ],
          "name": "stdout"
        }
      ]
    },
    {
      "cell_type": "code",
      "metadata": {
        "id": "GVsHCn-kOZ0G"
      },
      "source": [
        ""
      ],
      "execution_count": null,
      "outputs": []
    },
    {
      "cell_type": "code",
      "metadata": {
        "id": "FtHwcAeRmIzB"
      },
      "source": [
        ""
      ],
      "execution_count": null,
      "outputs": []
    },
    {
      "cell_type": "code",
      "metadata": {
        "id": "Z__9q9BemPGb",
        "outputId": "c57529ce-952a-44d1-f502-887a7fa08401",
        "colab": {
          "base_uri": "https://localhost:8080/",
          "height": 130
        }
      },
      "source": [
        ""
      ],
      "execution_count": null,
      "outputs": [
        {
          "output_type": "error",
          "ename": "SyntaxError",
          "evalue": "ignored",
          "traceback": [
            "\u001b[0;36m  File \u001b[0;32m\"<ipython-input-1-473f897a5729>\"\u001b[0;36m, line \u001b[0;32m1\u001b[0m\n\u001b[0;31m    mongo \"mongodb+srv://sandbox.xxxfd.mongodb.net/<dbname>\" --username m001-student\u001b[0m\n\u001b[0m                                                           ^\u001b[0m\n\u001b[0;31mSyntaxError\u001b[0m\u001b[0;31m:\u001b[0m invalid syntax\n"
          ]
        }
      ]
    },
    {
      "cell_type": "code",
      "metadata": {
        "id": "EwbK5s7qWgGR"
      },
      "source": [
        ""
      ],
      "execution_count": null,
      "outputs": []
    }
  ]
}